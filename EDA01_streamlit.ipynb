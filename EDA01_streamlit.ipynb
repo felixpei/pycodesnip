{
  "nbformat": 4,
  "nbformat_minor": 0,
  "metadata": {
    "colab": {
      "name": "EDA01_streamlit.ipynb",
      "provenance": [],
      "include_colab_link": true
    },
    "kernelspec": {
      "display_name": "Python 3",
      "name": "python3"
    },
    "language_info": {
      "name": "python"
    },
    "accelerator": "TPU"
  },
  "cells": [
    {
      "cell_type": "markdown",
      "metadata": {
        "id": "view-in-github",
        "colab_type": "text"
      },
      "source": [
        "<a href=\"https://colab.research.google.com/github/felixpei/pycodesnip/blob/main/EDA01_streamlit.ipynb\" target=\"_parent\"><img src=\"https://colab.research.google.com/assets/colab-badge.svg\" alt=\"Open In Colab\"/></a>"
      ]
    },
    {
      "cell_type": "markdown",
      "metadata": {
        "id": "-hDe8PLYVWld"
      },
      "source": [
        "# 小專題，鳶尾花分析與分析結果展示"
      ]
    },
    {
      "cell_type": "code",
      "metadata": {
        "colab": {
          "base_uri": "https://localhost:8080/"
        },
        "id": "5eJm-tVeHWtO",
        "outputId": "f972d908-aac6-45a9-f703-e7600e9f7bc4"
      },
      "source": [
        "!pip install -q streamlit==0.83\n",
        "!pip install -q pyngrok==5.0.5\n"
      ],
      "execution_count": null,
      "outputs": [
        {
          "output_type": "stream",
          "text": [
            "\u001b[K     |████████████████████████████████| 7.8MB 4.8MB/s \n",
            "\u001b[K     |████████████████████████████████| 112kB 45.9MB/s \n",
            "\u001b[K     |████████████████████████████████| 174kB 44.0MB/s \n",
            "\u001b[K     |████████████████████████████████| 4.2MB 35.7MB/s \n",
            "\u001b[K     |████████████████████████████████| 81kB 7.8MB/s \n",
            "\u001b[K     |████████████████████████████████| 71kB 7.8MB/s \n",
            "\u001b[K     |████████████████████████████████| 122kB 56.8MB/s \n",
            "\u001b[K     |████████████████████████████████| 788kB 43.7MB/s \n",
            "\u001b[K     |████████████████████████████████| 368kB 36.0MB/s \n",
            "\u001b[?25h  Building wheel for blinker (setup.py) ... \u001b[?25l\u001b[?25hdone\n",
            "\u001b[31mERROR: jupyter-console 5.2.0 has requirement prompt-toolkit<2.0.0,>=1.0.0, but you'll have prompt-toolkit 3.0.19 which is incompatible.\u001b[0m\n",
            "\u001b[31mERROR: google-colab 1.0.0 has requirement ipykernel~=4.10, but you'll have ipykernel 6.0.1 which is incompatible.\u001b[0m\n",
            "\u001b[31mERROR: google-colab 1.0.0 has requirement ipython~=5.5.0, but you'll have ipython 7.25.0 which is incompatible.\u001b[0m\n",
            "\u001b[K     |████████████████████████████████| 747kB 6.7MB/s \n",
            "\u001b[?25h  Building wheel for pyngrok (setup.py) ... \u001b[?25l\u001b[?25hdone\n"
          ],
          "name": "stdout"
        }
      ]
    },
    {
      "cell_type": "code",
      "metadata": {
        "id": "my4GTesQVlJL"
      },
      "source": [
        "from sklearn.datasets import load_iris\n",
        "import pandas as pd \n",
        "import matplotlib.pyplot as plt\n",
        "from pyngrok import ngrok\n",
        "import os"
      ],
      "execution_count": null,
      "outputs": []
    },
    {
      "cell_type": "markdown",
      "metadata": {
        "id": "UqEzaq4TVMWs"
      },
      "source": [
        "\n",
        "## 在Jupyter notenook上進行資料分析"
      ]
    },
    {
      "cell_type": "markdown",
      "metadata": {
        "id": "JJCZiTDnVHmN"
      },
      "source": [
        "### 獲取資料"
      ]
    },
    {
      "cell_type": "code",
      "metadata": {
        "id": "ggfnrN_Qm-hh"
      },
      "source": [
        "# from sklearn.datasets import load_iris\n",
        "iris = load_iris()"
      ],
      "execution_count": null,
      "outputs": []
    },
    {
      "cell_type": "markdown",
      "metadata": {
        "id": "zWFg391YVfJM"
      },
      "source": [
        "### 資料overview"
      ]
    },
    {
      "cell_type": "code",
      "metadata": {
        "colab": {
          "base_uri": "https://localhost:8080/"
        },
        "id": "PvFwN_Kw7Svi",
        "outputId": "22f8b80e-fdae-4d6a-eb71-286672406401"
      },
      "source": [
        "#　鳶尾花的種類\n",
        "print(iris.target_names)\n",
        "\n",
        "# 花朵的特徵\n",
        "print(iris.feature_names)\n",
        "\n"
      ],
      "execution_count": null,
      "outputs": [
        {
          "output_type": "stream",
          "text": [
            "['setosa' 'versicolor' 'virginica']\n",
            "['sepal length (cm)', 'sepal width (cm)', 'petal length (cm)', 'petal width (cm)']\n"
          ],
          "name": "stdout"
        }
      ]
    },
    {
      "cell_type": "code",
      "metadata": {
        "colab": {
          "base_uri": "https://localhost:8080/",
          "height": 142
        },
        "id": "B5pJ_oUe7TLr",
        "outputId": "c45097ba-cc16-49d1-c304-84527bb402ba"
      },
      "source": [
        "# import pandas as pd \n",
        "data = pd.DataFrame(iris.data, columns = iris.feature_names)\n",
        "data.head(3)"
      ],
      "execution_count": null,
      "outputs": [
        {
          "output_type": "execute_result",
          "data": {
            "text/html": [
              "<div>\n",
              "<style scoped>\n",
              "    .dataframe tbody tr th:only-of-type {\n",
              "        vertical-align: middle;\n",
              "    }\n",
              "\n",
              "    .dataframe tbody tr th {\n",
              "        vertical-align: top;\n",
              "    }\n",
              "\n",
              "    .dataframe thead th {\n",
              "        text-align: right;\n",
              "    }\n",
              "</style>\n",
              "<table border=\"1\" class=\"dataframe\">\n",
              "  <thead>\n",
              "    <tr style=\"text-align: right;\">\n",
              "      <th></th>\n",
              "      <th>sepal length (cm)</th>\n",
              "      <th>sepal width (cm)</th>\n",
              "      <th>petal length (cm)</th>\n",
              "      <th>petal width (cm)</th>\n",
              "    </tr>\n",
              "  </thead>\n",
              "  <tbody>\n",
              "    <tr>\n",
              "      <th>0</th>\n",
              "      <td>5.1</td>\n",
              "      <td>3.5</td>\n",
              "      <td>1.4</td>\n",
              "      <td>0.2</td>\n",
              "    </tr>\n",
              "    <tr>\n",
              "      <th>1</th>\n",
              "      <td>4.9</td>\n",
              "      <td>3.0</td>\n",
              "      <td>1.4</td>\n",
              "      <td>0.2</td>\n",
              "    </tr>\n",
              "    <tr>\n",
              "      <th>2</th>\n",
              "      <td>4.7</td>\n",
              "      <td>3.2</td>\n",
              "      <td>1.3</td>\n",
              "      <td>0.2</td>\n",
              "    </tr>\n",
              "  </tbody>\n",
              "</table>\n",
              "</div>"
            ],
            "text/plain": [
              "   sepal length (cm)  sepal width (cm)  petal length (cm)  petal width (cm)\n",
              "0                5.1               3.5                1.4               0.2\n",
              "1                4.9               3.0                1.4               0.2\n",
              "2                4.7               3.2                1.3               0.2"
            ]
          },
          "metadata": {
            "tags": []
          },
          "execution_count": 5
        }
      ]
    },
    {
      "cell_type": "code",
      "metadata": {
        "colab": {
          "base_uri": "https://localhost:8080/"
        },
        "id": "PrtIDUjV-rQ0",
        "outputId": "f505a653-a3c7-4031-f867-0ddbefa1496f"
      },
      "source": [
        "print(len(data),'筆資料\\n')\n",
        "data.loc[:, 'sepal length (cm)']"
      ],
      "execution_count": null,
      "outputs": [
        {
          "output_type": "stream",
          "text": [
            "150 筆資料\n",
            "\n"
          ],
          "name": "stdout"
        },
        {
          "output_type": "execute_result",
          "data": {
            "text/plain": [
              "0      5.1\n",
              "1      4.9\n",
              "2      4.7\n",
              "3      4.6\n",
              "4      5.0\n",
              "      ... \n",
              "145    6.7\n",
              "146    6.3\n",
              "147    6.5\n",
              "148    6.2\n",
              "149    5.9\n",
              "Name: sepal length (cm), Length: 150, dtype: float64"
            ]
          },
          "metadata": {
            "tags": []
          },
          "execution_count": 6
        }
      ]
    },
    {
      "cell_type": "markdown",
      "metadata": {
        "id": "2GTt91IUgXPb"
      },
      "source": [
        "### 產生並儲存圖表"
      ]
    },
    {
      "cell_type": "code",
      "metadata": {
        "colab": {
          "base_uri": "https://localhost:8080/",
          "height": 347
        },
        "id": "e6gZRV1R_p2A",
        "outputId": "9ed9d496-8ef0-40e6-9922-abcdf41bef12"
      },
      "source": [
        "\n",
        "tmp = data.loc[:, 'sepal length (cm)']\n",
        "\n",
        "\n",
        "fig = plt.figure(figsize=(16,8))\n",
        "plt.subplot(1,2,1)\n",
        "plt.scatter(x = range(len(tmp)), y = tmp)\n",
        "plt.title('All of the data point'), plt.xlabel('Index of data point'), plt.ylabel('value')\n",
        "\n",
        "plt.subplot(1,2,2)\n",
        "\n",
        "ax = [0, len(tmp)]\n",
        "ay = [tmp.mean()]*2\n",
        "\n",
        "plt.scatter(x = range(len(tmp)), y = tmp)\n",
        "plt.plot(ax, ay, linewidth=4, color='red')\n",
        "plt.title('Mean of all datapoint'), plt.xlabel('Index of data point'), plt.ylabel('value')\n",
        "\n",
        "plt.savefig(\"simple_datapoint.png\")\n",
        "# # plt.scatter(x = range(len(tmp)), y = [tmp.mean()]*len(tmp), )\n",
        "plt.show()"
      ],
      "execution_count": null,
      "outputs": [
        {
          "output_type": "display_data",
          "data": {
            "image/png": "[encoded data removed]",
            "text/plain": [
              "<Figure size 1152x576 with 2 Axes>"
            ]
          },
          "metadata": {
            "tags": [],
            "needs_background": "light"
          }
        }
      ]
    },
    {
      "cell_type": "markdown",
      "metadata": {
        "id": "-6wXh4uXfnCM"
      },
      "source": [
        "## streamlit web-api 設計\n",
        "### 產出app.py"
      ]
    },
    {
      "cell_type": "code",
      "metadata": {
        "colab": {
          "base_uri": "https://localhost:8080/"
        },
        "id": "izFmXC0qMvul",
        "outputId": "ce3784d1-a97c-4481-894a-2029392986fc"
      },
      "source": [
        "%%writefile app.py\n",
        "import streamlit as st\n",
        "import matplotlib.pyplot as plt\n",
        "\n",
        "\n",
        "st.title('This is a simple_datapoint scatter')\n",
        "\n",
        "st.image('simple_datapoint.png')\n",
        "\n",
        "# 產生app.py"
      ],
      "execution_count": null,
      "outputs": [
        {
          "output_type": "stream",
          "text": [
            "Writing app.py\n"
          ],
          "name": "stdout"
        }
      ]
    },
    {
      "cell_type": "markdown",
      "metadata": {
        "id": "P-gY94OIf1oL"
      },
      "source": [
        "### ngrol方法建立"
      ]
    },
    {
      "cell_type": "code",
      "metadata": {
        "id": "7qg74THFZie1"
      },
      "source": [
        "from pyngrok import ngrok\n",
        "def run_webApi():\n",
        "\n",
        "  os.system('killall ngrok')\n",
        "  print('Clear existed ngrok.')\n",
        "  print('Run ngrok.')\n",
        "  \n",
        "  public_url = ngrok.connect(port='80')\n",
        "  public_url = str(public_url).split(sep='\"')[1]\n",
        "  print('頁面連結', public_url)\n",
        "  os.system('streamlit run --server.port 80 app.py >/dev/null')\n",
        "\n",
        "  \n"
      ],
      "execution_count": null,
      "outputs": []
    },
    {
      "cell_type": "markdown",
      "metadata": {
        "id": "-LDcHJUMf8jU"
      },
      "source": [
        "### 透過ngrok廣播colab port，執行streamlit Web-API"
      ]
    },
    {
      "cell_type": "code",
      "metadata": {
        "id": "UK9wpJvMMvyF",
        "colab": {
          "base_uri": "https://localhost:8080/"
        },
        "outputId": "9aa17388-417b-41ac-a36b-583a8ffa0c3a"
      },
      "source": [
        "if __name__ == '__main__':\n",
        "  run_webApi()"
      ],
      "execution_count": null,
      "outputs": [
        {
          "output_type": "stream",
          "text": [
            "Clear existed ngrok.\n",
            "Run ngrok.\n",
            "頁面連結 http://267ebb47b47a.ngrok.io\n"
          ],
          "name": "stdout"
        }
      ]
    },
    {
      "cell_type": "code",
      "metadata": {
        "id": "0IV6k72bYg4h"
      },
      "source": [
        ""
      ],
      "execution_count": null,
      "outputs": []
    }
  ]
}